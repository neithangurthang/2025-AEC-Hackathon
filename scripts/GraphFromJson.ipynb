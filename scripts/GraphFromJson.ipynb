{
 "cells": [
  {
   "cell_type": "markdown",
   "metadata": {},
   "source": [
    "# Saving Reference Designs"
   ]
  },
  {
   "cell_type": "code",
   "execution_count": 4,
   "metadata": {},
   "outputs": [],
   "source": [
    "import networkx as nx\n",
    "import matplotlib.pyplot as plt\n",
    "import numpy as np\n",
    "import pandas as pd"
   ]
  },
  {
   "cell_type": "code",
   "execution_count": 2,
   "metadata": {},
   "outputs": [],
   "source": [
    "path = '../json/'"
   ]
  },
  {
   "cell_type": "code",
   "execution_count": 15,
   "metadata": {},
   "outputs": [],
   "source": [
    "rf01_dict = pd.read_json(path + 'ReferenceDesign_01/Reference01.json')"
   ]
  },
  {
   "cell_type": "code",
   "execution_count": 18,
   "metadata": {},
   "outputs": [
    {
     "data": {
      "text/plain": [
       "{'0': {'panel_type': 'WAL_21 WAL_33',\n",
       "  'start_point': [33.69, 11.16, 0],\n",
       "  'end_point': [33.69, 14.16, 0],\n",
       "  'height': 3,\n",
       "  'thickness': 0.2,\n",
       "  'room': 'bathroom',\n",
       "  'apartment': 'Apartment 1'},\n",
       " '1': {'panel_type': 'WAL_33',\n",
       "  'start_point': [33.69, 14.16, 0],\n",
       "  'end_point': [36.4, 14.16, 0],\n",
       "  'height': 3,\n",
       "  'thickness': 0.2,\n",
       "  'room': 'bathroom',\n",
       "  'apartment': 'Apartment 1'},\n",
       " '2': {'panel_type': 'WAL_33',\n",
       "  'start_point': [36.4, 14.16, 0],\n",
       "  'end_point': [36.4, 11.16, 0],\n",
       "  'height': 3,\n",
       "  'thickness': 0.2,\n",
       "  'room': 'bathroom',\n",
       "  'apartment': 'Apartment 1'},\n",
       " '3': {'panel_type': 'WAL_21 WAL_33',\n",
       "  'start_point': [36.4, 11.16, 0],\n",
       "  'end_point': [33.69, 11.16, 0],\n",
       "  'height': 3,\n",
       "  'thickness': 0.2,\n",
       "  'room': 'bathroom',\n",
       "  'apartment': 'Apartment 1'},\n",
       " '4': {'panel_type': 'WAL_21',\n",
       "  'start_point': [33.69, 14.16, 0],\n",
       "  'end_point': [33.69, 15.58, 0],\n",
       "  'height': 3,\n",
       "  'thickness': 0.2,\n",
       "  'room': 'corridor',\n",
       "  'apartment': 'Apartment 1'},\n",
       " '5': {'panel_type': 'WAL_31',\n",
       "  'start_point': [33.69, 15.58, 0],\n",
       "  'end_point': [36.4, 15.58, 0],\n",
       "  'height': 3,\n",
       "  'thickness': 0.2,\n",
       "  'room': 'corridor',\n",
       "  'apartment': 'Apartment 1'},\n",
       " '6': {'panel_type': 'WAL_25',\n",
       "  'start_point': [36.4, 15.58, 0],\n",
       "  'end_point': [36.4, 14.16, 0],\n",
       "  'height': 3,\n",
       "  'thickness': 0.2,\n",
       "  'room': 'corridor',\n",
       "  'apartment': 'Apartment 1'},\n",
       " '7': {'panel_type': 'WAL_31',\n",
       "  'start_point': [36.4, 14.16, 0],\n",
       "  'end_point': [33.69, 14.16, 0],\n",
       "  'height': 3,\n",
       "  'thickness': 0.2,\n",
       "  'room': 'corridor',\n",
       "  'apartment': 'Apartment 1'},\n",
       " '8': {'panel_type': 'WAL_21 WAL_33',\n",
       "  'start_point': [33.69, 15.58, 0],\n",
       "  'end_point': [33.69, 18.29, 0],\n",
       "  'height': 3,\n",
       "  'thickness': 0.2,\n",
       "  'room': 'bathroom',\n",
       "  'apartment': 'Apartment 1'},\n",
       " '9': {'panel_type': 'WAL_21 WAL_33',\n",
       "  'start_point': [33.69, 18.29, 0],\n",
       "  'end_point': [36.4, 18.29, 0],\n",
       "  'height': 3,\n",
       "  'thickness': 0.2,\n",
       "  'room': 'bathroom',\n",
       "  'apartment': 'Apartment 1'},\n",
       " '10': {'panel_type': 'WAL_33',\n",
       "  'start_point': [36.4, 18.29, 0],\n",
       "  'end_point': [36.4, 15.58, 0],\n",
       "  'height': 3,\n",
       "  'thickness': 0.2,\n",
       "  'room': 'bathroom',\n",
       "  'apartment': 'Apartment 1'},\n",
       " '11': {'panel_type': 'WAL_33',\n",
       "  'start_point': [36.4, 15.58, 0],\n",
       "  'end_point': [33.69, 15.58, 0],\n",
       "  'height': 3,\n",
       "  'thickness': 0.2,\n",
       "  'room': 'bathroom',\n",
       "  'apartment': 'Apartment 1'},\n",
       " '12': {'panel_type': 'WAL_21',\n",
       "  'start_point': [36.4, 11.16, 0],\n",
       "  'end_point': [40.65, 11.16, 0],\n",
       "  'height': 3,\n",
       "  'thickness': 0.2,\n",
       "  'room': 'living_room',\n",
       "  'apartment': 'Apartment 1'},\n",
       " '13': {'panel_type': 'WAL_25',\n",
       "  'start_point': [40.65, 11.16, 0],\n",
       "  'end_point': [40.65, 15.65, 0],\n",
       "  'height': 3,\n",
       "  'thickness': 0.2,\n",
       "  'room': 'living_room',\n",
       "  'apartment': 'Apartment 1'},\n",
       " '14': {'panel_type': 'WAL_24',\n",
       "  'start_point': [40.65, 15.65, 0],\n",
       "  'end_point': [40.65, 18.39, 0],\n",
       "  'height': 3,\n",
       "  'thickness': 0.2,\n",
       "  'room': 'living_room',\n",
       "  'apartment': 'Apartment 1'},\n",
       " '15': {'panel_type': 'WAL_21',\n",
       "  'start_point': [40.65, 18.39, 0],\n",
       "  'end_point': [36.4, 18.29, 0],\n",
       "  'height': 3,\n",
       "  'thickness': 0.2,\n",
       "  'room': 'living_room',\n",
       "  'apartment': 'Apartment 1'},\n",
       " '16': {'panel_type': 'WAL_31',\n",
       "  'start_point': [36.4, 18.29, 0],\n",
       "  'end_point': [36.4, 15.58, 0],\n",
       "  'height': 3,\n",
       "  'thickness': 0.2,\n",
       "  'room': 'living_room',\n",
       "  'apartment': 'Apartment 1'},\n",
       " '17': {'panel_type': 'WAL_25',\n",
       "  'start_point': [36.4, 15.58, 0],\n",
       "  'end_point': [36.4, 14.16, 0],\n",
       "  'height': 3,\n",
       "  'thickness': 0.2,\n",
       "  'room': 'living_room',\n",
       "  'apartment': 'Apartment 1'},\n",
       " '18': {'panel_type': 'WAL_31',\n",
       "  'start_point': [36.4, 14.16, 0],\n",
       "  'end_point': [36.4, 11.16, 0],\n",
       "  'height': 3,\n",
       "  'thickness': 0.2,\n",
       "  'room': 'living_room',\n",
       "  'apartment': 'Apartment 1'},\n",
       " '19': {'panel_type': 'WAL_24',\n",
       "  'start_point': [40.65, 15.65, 0],\n",
       "  'end_point': [44.04, 15.65, 0],\n",
       "  'height': 3,\n",
       "  'thickness': 0.2,\n",
       "  'room': 'bedroom',\n",
       "  'apartment': 'Apartment 1'},\n",
       " '20': {'panel_type': 'WAL_24',\n",
       "  'start_point': [44.04, 15.65, 0],\n",
       "  'end_point': [44.04, 11.16, 0],\n",
       "  'height': 3,\n",
       "  'thickness': 0.2,\n",
       "  'room': 'bedroom',\n",
       "  'apartment': 'Apartment 1'},\n",
       " '21': {'panel_type': 'WAL_21',\n",
       "  'start_point': [44.04, 11.16, 0],\n",
       "  'end_point': [40.65, 11.16, 0],\n",
       "  'height': 3,\n",
       "  'thickness': 0.2,\n",
       "  'room': 'bedroom',\n",
       "  'apartment': 'Apartment 1'},\n",
       " '22': {'panel_type': 'WAL_25',\n",
       "  'start_point': [40.65, 11.16, 0],\n",
       "  'end_point': [40.65, 15.65, 0],\n",
       "  'height': 3,\n",
       "  'thickness': 0.2,\n",
       "  'room': 'bedroom',\n",
       "  'apartment': 'Apartment 1'},\n",
       " '23': {'panel_type': 'WAL_24',\n",
       "  'start_point': [44.04, 15.65, 0],\n",
       "  'end_point': [44.04, 18.32, 0],\n",
       "  'height': 3,\n",
       "  'thickness': 0.2,\n",
       "  'room': 'living_room',\n",
       "  'apartment': 'Apartment 2'},\n",
       " '24': {'panel_type': 'WAL_21',\n",
       "  'start_point': [44.04, 18.32, 0],\n",
       "  'end_point': [49.3, 18.32, 0],\n",
       "  'height': 3,\n",
       "  'thickness': 0.2,\n",
       "  'room': 'living_room',\n",
       "  'apartment': 'Apartment 2'},\n",
       " '25': {'panel_type': 'WAL_31',\n",
       "  'start_point': [49.3, 18.32, 0],\n",
       "  'end_point': [49.3, 16.52, 0],\n",
       "  'height': 3,\n",
       "  'thickness': 0.2,\n",
       "  'room': 'living_room',\n",
       "  'apartment': 'Apartment 2'},\n",
       " '26': {'panel_type': 'WAL_25',\n",
       "  'start_point': [49.3, 16.52, 0],\n",
       "  'end_point': [49.3, 14.16, 0],\n",
       "  'height': 3,\n",
       "  'thickness': 0.2,\n",
       "  'room': 'living_room',\n",
       "  'apartment': 'Apartment 2'},\n",
       " '27': {'panel_type': 'WAL_31',\n",
       "  'start_point': [49.3, 14.16, 0],\n",
       "  'end_point': [49.27, 11.2, 0],\n",
       "  'height': 3,\n",
       "  'thickness': 0.2,\n",
       "  'room': 'living_room',\n",
       "  'apartment': 'Apartment 2'},\n",
       " '28': {'panel_type': 'WAL_21',\n",
       "  'start_point': [49.27, 11.2, 0],\n",
       "  'end_point': [44.04, 11.16, 0],\n",
       "  'height': 3,\n",
       "  'thickness': 0.2,\n",
       "  'room': 'living_room',\n",
       "  'apartment': 'Apartment 2'},\n",
       " '29': {'panel_type': 'WAL_24',\n",
       "  'start_point': [44.04, 11.16, 0],\n",
       "  'end_point': [44.04, 15.65, 0],\n",
       "  'height': 3,\n",
       "  'thickness': 0.2,\n",
       "  'room': 'living_room',\n",
       "  'apartment': 'Apartment 2'},\n",
       " '30': {'panel_type': 'WAL_21',\n",
       "  'start_point': [40.65, 18.39, 0],\n",
       "  'end_point': [40.65, 20.94, 0],\n",
       "  'height': 3,\n",
       "  'thickness': 0.2,\n",
       "  'room': 'core'},\n",
       " '31': {'panel_type': 'WAL_21',\n",
       "  'start_point': [40.65, 20.94, 0],\n",
       "  'end_point': [44.07, 20.94, 0],\n",
       "  'height': 3,\n",
       "  'thickness': 0.2,\n",
       "  'room': 'core'},\n",
       " '32': {'panel_type': 'WAL_21',\n",
       "  'start_point': [44.07, 20.94, 0],\n",
       "  'end_point': [44.04, 18.32, 0],\n",
       "  'height': 3,\n",
       "  'thickness': 0.2,\n",
       "  'room': 'core'},\n",
       " '33': {'panel_type': 'WAL_26',\n",
       "  'start_point': [44.04, 18.32, 0],\n",
       "  'end_point': [44.04, 15.65, 0],\n",
       "  'height': 3,\n",
       "  'thickness': 0.2,\n",
       "  'room': 'core'},\n",
       " '34': {'panel_type': 'WAL_26',\n",
       "  'start_point': [44.04, 15.65, 0],\n",
       "  'end_point': [40.65, 15.65, 0],\n",
       "  'height': 3,\n",
       "  'thickness': 0.2,\n",
       "  'room': 'core'},\n",
       " '35': {'panel_type': 'WAL_26',\n",
       "  'start_point': [40.65, 15.65, 0],\n",
       "  'end_point': [40.65, 18.39, 0],\n",
       "  'height': 3,\n",
       "  'thickness': 0.2,\n",
       "  'room': 'core'},\n",
       " '36': {'panel_type': 'WAL_21 WAL_33',\n",
       "  'start_point': [49.27, 11.2, 0],\n",
       "  'end_point': [52.56, 11.2, 0],\n",
       "  'height': 3,\n",
       "  'thickness': 0.2,\n",
       "  'room': 'bathroom',\n",
       "  'apartment': 'Apartment 2'},\n",
       " '37': {'panel_type': 'WAL_33',\n",
       "  'start_point': [52.56, 11.2, 0],\n",
       "  'end_point': [52.56, 14.13, 0],\n",
       "  'height': 3,\n",
       "  'thickness': 0.2,\n",
       "  'room': 'bathroom',\n",
       "  'apartment': 'Apartment 2'},\n",
       " '38': {'panel_type': 'WAL_33',\n",
       "  'start_point': [52.56, 14.13, 0],\n",
       "  'end_point': [49.3, 14.16, 0],\n",
       "  'height': 3,\n",
       "  'thickness': 0.2,\n",
       "  'room': 'bathroom',\n",
       "  'apartment': 'Apartment 2'},\n",
       " '39': {'panel_type': 'WAL_33',\n",
       "  'start_point': [49.3, 14.16, 0],\n",
       "  'end_point': [49.27, 11.2, 0],\n",
       "  'height': 3,\n",
       "  'thickness': 0.2,\n",
       "  'room': 'bathroom',\n",
       "  'apartment': 'Apartment 2'},\n",
       " '40': {'panel_type': 'WAL_25',\n",
       "  'start_point': [52.56, 14.13, 0],\n",
       "  'end_point': [52.56, 15.36, 0],\n",
       "  'height': 3,\n",
       "  'thickness': 0.2,\n",
       "  'room': 'corridor',\n",
       "  'apartment': 'Apartment 2'},\n",
       " '41': {'panel_type': 'WAL_25',\n",
       "  'start_point': [52.56, 15.36, 0],\n",
       "  'end_point': [52.56, 16.52, 0],\n",
       "  'height': 3,\n",
       "  'thickness': 0.2,\n",
       "  'room': 'corridor',\n",
       "  'apartment': 'Apartment 2'},\n",
       " '42': {'panel_type': 'WAL_31',\n",
       "  'start_point': [52.56, 16.52, 0],\n",
       "  'end_point': [49.3, 16.52, 0],\n",
       "  'height': 3,\n",
       "  'thickness': 0.2,\n",
       "  'room': 'corridor',\n",
       "  'apartment': 'Apartment 2'},\n",
       " '43': {'panel_type': 'WAL_25',\n",
       "  'start_point': [49.3, 16.52, 0],\n",
       "  'end_point': [49.3, 14.16, 0],\n",
       "  'height': 3,\n",
       "  'thickness': 0.2,\n",
       "  'room': 'corridor',\n",
       "  'apartment': 'Apartment 2'},\n",
       " '44': {'panel_type': 'WAL_31',\n",
       "  'start_point': [49.3, 14.16, 0],\n",
       "  'end_point': [52.56, 14.13, 0],\n",
       "  'height': 3,\n",
       "  'thickness': 0.2,\n",
       "  'room': 'corridor',\n",
       "  'apartment': 'Apartment 2'},\n",
       " '45': {'panel_type': 'WAL_33',\n",
       "  'start_point': [52.56, 16.52, 0],\n",
       "  'end_point': [52.56, 18.29, 0],\n",
       "  'height': 3,\n",
       "  'thickness': 0.2,\n",
       "  'room': 'bathroom',\n",
       "  'apartment': 'Apartment 2'},\n",
       " '46': {'panel_type': 'WAL_21 WAL_33',\n",
       "  'start_point': [52.56, 18.29, 0],\n",
       "  'end_point': [49.3, 18.32, 0],\n",
       "  'height': 3,\n",
       "  'thickness': 0.2,\n",
       "  'room': 'bathroom',\n",
       "  'apartment': 'Apartment 2'},\n",
       " '47': {'panel_type': 'WAL_33',\n",
       "  'start_point': [49.3, 18.32, 0],\n",
       "  'end_point': [49.3, 16.52, 0],\n",
       "  'height': 3,\n",
       "  'thickness': 0.2,\n",
       "  'room': 'bathroom',\n",
       "  'apartment': 'Apartment 2'},\n",
       " '48': {'panel_type': 'WAL_33',\n",
       "  'start_point': [49.3, 16.52, 0],\n",
       "  'end_point': [52.56, 16.52, 0],\n",
       "  'height': 3,\n",
       "  'thickness': 0.2,\n",
       "  'room': 'bathroom',\n",
       "  'apartment': 'Apartment 2'},\n",
       " '49': {'panel_type': 'WAL_21',\n",
       "  'start_point': [52.56, 11.2, 0],\n",
       "  'end_point': [56.36, 11.2, 0],\n",
       "  'height': 3,\n",
       "  'thickness': 0.2,\n",
       "  'room': 'bedroom',\n",
       "  'apartment': 'Apartment 2'},\n",
       " '50': {'panel_type': 'WAL_21',\n",
       "  'start_point': [56.36, 11.2, 0],\n",
       "  'end_point': [56.36, 15.45, 0],\n",
       "  'height': 3,\n",
       "  'thickness': 0.2,\n",
       "  'room': 'bedroom',\n",
       "  'apartment': 'Apartment 2'},\n",
       " '51': {'panel_type': 'WAL_25',\n",
       "  'start_point': [56.36, 15.45, 0],\n",
       "  'end_point': [52.56, 15.36, 0],\n",
       "  'height': 3,\n",
       "  'thickness': 0.2,\n",
       "  'room': 'bedroom',\n",
       "  'apartment': 'Apartment 2'},\n",
       " '52': {'panel_type': 'WAL_25',\n",
       "  'start_point': [52.56, 15.36, 0],\n",
       "  'end_point': [52.56, 14.13, 0],\n",
       "  'height': 3,\n",
       "  'thickness': 0.2,\n",
       "  'room': 'bedroom',\n",
       "  'apartment': 'Apartment 2'},\n",
       " '53': {'panel_type': 'WAL_25',\n",
       "  'start_point': [52.56, 14.13, 0],\n",
       "  'end_point': [52.56, 11.2, 0],\n",
       "  'height': 3,\n",
       "  'thickness': 0.2,\n",
       "  'room': 'bedroom',\n",
       "  'apartment': 'Apartment 2'},\n",
       " '54': {'panel_type': 'WAL_21',\n",
       "  'start_point': [56.36, 15.45, 0],\n",
       "  'end_point': [56.36, 18.26, 0],\n",
       "  'height': 3,\n",
       "  'thickness': 0.2,\n",
       "  'room': 'bedroom',\n",
       "  'apartment': 'Apartment 2'},\n",
       " '55': {'panel_type': 'WAL_21',\n",
       "  'start_point': [56.36, 18.26, 0],\n",
       "  'end_point': [52.56, 18.29, 0],\n",
       "  'height': 3,\n",
       "  'thickness': 0.2,\n",
       "  'room': 'bedroom',\n",
       "  'apartment': 'Apartment 2'},\n",
       " '56': {'panel_type': 'WAL_25',\n",
       "  'start_point': [52.56, 18.29, 0],\n",
       "  'end_point': [52.56, 16.52, 0],\n",
       "  'height': 3,\n",
       "  'thickness': 0.2,\n",
       "  'room': 'bedroom',\n",
       "  'apartment': 'Apartment 2'},\n",
       " '57': {'panel_type': 'WAL_25',\n",
       "  'start_point': [52.56, 16.52, 0],\n",
       "  'end_point': [52.56, 15.36, 0],\n",
       "  'height': 3,\n",
       "  'thickness': 0.2,\n",
       "  'room': 'bedroom',\n",
       "  'apartment': 'Apartment 2'},\n",
       " '58': {'panel_type': 'WAL_25',\n",
       "  'start_point': [52.56, 15.36, 0],\n",
       "  'end_point': [56.36, 15.45, 0],\n",
       "  'height': 3,\n",
       "  'thickness': 0.2,\n",
       "  'room': 'bedroom',\n",
       "  'apartment': 'Apartment 2'}}"
      ]
     },
     "execution_count": 18,
     "metadata": {},
     "output_type": "execute_result"
    }
   ],
   "source": [
    "rf01_dict['panels']['items']"
   ]
  },
  {
   "cell_type": "code",
   "execution_count": 30,
   "metadata": {},
   "outputs": [
    {
     "data": {
      "text/plain": [
       "Index(['attributes', 'items', 'max_key', '0', '1', '2', '3', '4', '5', '6',\n",
       "       '7', '8', '9', '10', '11'],\n",
       "      dtype='object')"
      ]
     },
     "execution_count": 30,
     "metadata": {},
     "output_type": "execute_result"
    }
   ],
   "source": [
    "rf01_dict['spaces'].keys()"
   ]
  },
  {
   "cell_type": "code",
   "execution_count": 35,
   "metadata": {},
   "outputs": [
    {
     "name": "stdout",
     "output_type": "stream",
     "text": [
      "nan\n",
      "nan\n",
      "nan\n",
      "{'room_type': 'bathroom', 'apartment': 'Apartment 1', 'coordinates': [{'x': 33.69, 'y': 11.16, 'z': 0}, {'x': 33.69, 'y': 14.16, 'z': 0}, {'x': 36.4, 'y': 14.16, 'z': 0}, {'x': 36.4, 'y': 11.16, 'z': 0}, {'x': 33.69, 'y': 11.16, 'z': 0}]}\n",
      "{'room_type': 'corridor', 'apartment': 'Apartment 1', 'coordinates': [{'x': 33.69, 'y': 14.16, 'z': 0}, {'x': 33.69, 'y': 15.58, 'z': 0}, {'x': 36.4, 'y': 15.58, 'z': 0}, {'x': 36.4, 'y': 14.16, 'z': 0}, {'x': 33.69, 'y': 14.16, 'z': 0}]}\n",
      "{'room_type': 'bathroom', 'apartment': 'Apartment 1', 'coordinates': [{'x': 33.69, 'y': 15.58, 'z': 0}, {'x': 33.69, 'y': 18.29, 'z': 0}, {'x': 36.4, 'y': 18.29, 'z': 0}, {'x': 36.4, 'y': 15.58, 'z': 0}, {'x': 33.69, 'y': 15.58, 'z': 0}]}\n",
      "{'room_type': 'living_room', 'apartment': 'Apartment 1', 'coordinates': [{'x': 36.4, 'y': 11.16, 'z': 0}, {'x': 40.65, 'y': 11.16, 'z': 0}, {'x': 40.65, 'y': 15.65, 'z': 0}, {'x': 40.65, 'y': 18.39, 'z': 0}, {'x': 36.4, 'y': 18.29, 'z': 0}, {'x': 36.4, 'y': 15.58, 'z': 0}, {'x': 36.4, 'y': 14.16, 'z': 0}, {'x': 36.4, 'y': 11.16, 'z': 0}]}\n",
      "{'room_type': 'bedroom', 'apartment': 'Apartment 1', 'coordinates': [{'x': 40.65, 'y': 15.65, 'z': 0}, {'x': 44.04, 'y': 15.65, 'z': 0}, {'x': 44.04, 'y': 11.16, 'z': 0}, {'x': 40.65, 'y': 11.16, 'z': 0}, {'x': 40.65, 'y': 15.65, 'z': 0}]}\n",
      "{'room_type': 'living_room', 'apartment': 'Apartment 2', 'coordinates': [{'x': 44.04, 'y': 15.65, 'z': 0}, {'x': 44.04, 'y': 18.32, 'z': 0}, {'x': 49.3, 'y': 18.32, 'z': 0}, {'x': 49.3, 'y': 16.52, 'z': 0}, {'x': 49.3, 'y': 14.16, 'z': 0}, {'x': 49.27, 'y': 11.2, 'z': 0}, {'x': 44.04, 'y': 11.16, 'z': 0}, {'x': 44.04, 'y': 15.65, 'z': 0}]}\n",
      "{'room_type': 'core', 'coordinates': [{'x': 40.65, 'y': 18.39, 'z': 0}, {'x': 40.65, 'y': 20.94, 'z': 0}, {'x': 44.07, 'y': 20.94, 'z': 0}, {'x': 44.04, 'y': 18.32, 'z': 0}, {'x': 44.04, 'y': 15.65, 'z': 0}, {'x': 40.65, 'y': 15.65, 'z': 0}, {'x': 40.65, 'y': 18.39, 'z': 0}]}\n",
      "{'room_type': 'bathroom', 'apartment': 'Apartment 2', 'coordinates': [{'x': 49.27, 'y': 11.2, 'z': 0}, {'x': 52.56, 'y': 11.2, 'z': 0}, {'x': 52.56, 'y': 14.13, 'z': 0}, {'x': 49.3, 'y': 14.16, 'z': 0}, {'x': 49.27, 'y': 11.2, 'z': 0}]}\n",
      "{'room_type': 'corridor', 'apartment': 'Apartment 2', 'coordinates': [{'x': 52.56, 'y': 14.13, 'z': 0}, {'x': 52.56, 'y': 15.36, 'z': 0}, {'x': 52.56, 'y': 16.52, 'z': 0}, {'x': 49.3, 'y': 16.52, 'z': 0}, {'x': 49.3, 'y': 14.16, 'z': 0}, {'x': 52.56, 'y': 14.13, 'z': 0}]}\n",
      "{'room_type': 'bathroom', 'apartment': 'Apartment 2', 'coordinates': [{'x': 52.56, 'y': 16.52, 'z': 0}, {'x': 52.56, 'y': 18.29, 'z': 0}, {'x': 49.3, 'y': 18.32, 'z': 0}, {'x': 49.3, 'y': 16.52, 'z': 0}, {'x': 52.56, 'y': 16.52, 'z': 0}]}\n",
      "{'room_type': 'bedroom', 'apartment': 'Apartment 2', 'coordinates': [{'x': 52.56, 'y': 11.2, 'z': 0}, {'x': 56.36, 'y': 11.2, 'z': 0}, {'x': 56.36, 'y': 15.45, 'z': 0}, {'x': 52.56, 'y': 15.36, 'z': 0}, {'x': 52.56, 'y': 14.13, 'z': 0}, {'x': 52.56, 'y': 11.2, 'z': 0}]}\n",
      "{'room_type': 'bedroom', 'apartment': 'Apartment 2', 'coordinates': [{'x': 56.36, 'y': 15.45, 'z': 0}, {'x': 56.36, 'y': 18.26, 'z': 0}, {'x': 52.56, 'y': 18.29, 'z': 0}, {'x': 52.56, 'y': 16.52, 'z': 0}, {'x': 52.56, 'y': 15.36, 'z': 0}, {'x': 56.36, 'y': 15.45, 'z': 0}]}\n"
     ]
    }
   ],
   "source": [
    "for s in rf01_dict['spaces']:\n",
    "    print( s)"
   ]
  },
  {
   "cell_type": "code",
   "execution_count": 62,
   "metadata": {},
   "outputs": [],
   "source": [
    "rfgraph = nx.Graph()"
   ]
  },
  {
   "cell_type": "code",
   "execution_count": 63,
   "metadata": {},
   "outputs": [],
   "source": [
    "counter = 0\n",
    "for s in rf01_dict['spaces']:\n",
    "    if type(s) == dict:\n",
    "        id = counter\n",
    "        counter += 1\n",
    "        name = s['room_type']\n",
    "        if name == 'core':\n",
    "            apartment = 'core'\n",
    "        else:\n",
    "            apartment = s['apartment']\n",
    "        coordinates = s['coordinates']\n",
    "        rfgraph.add_node(id, room_type=name, apartment=apartment, coordinates=coordinates)"
   ]
  },
  {
   "cell_type": "code",
   "execution_count": 64,
   "metadata": {},
   "outputs": [
    {
     "data": {
      "image/png": "[encoded data removed]",
      "text/plain": [
       "<Figure size 640x480 with 1 Axes>"
      ]
     },
     "metadata": {},
     "output_type": "display_data"
    }
   ],
   "source": [
    "nx.draw(rfgraph, with_labels=True, font_weight='bold')"
   ]
  },
  {
   "cell_type": "code",
   "execution_count": 76,
   "metadata": {},
   "outputs": [
    {
     "name": "stdout",
     "output_type": "stream",
     "text": [
      "[[33.69, 11.16], [33.69, 14.16], [36.4, 14.16], [36.4, 11.16], [33.69, 11.16]]\n",
      "[[33.69, 14.16], [33.69, 15.58], [36.4, 15.58], [36.4, 14.16], [33.69, 14.16]]\n",
      "[[33.69, 15.58], [33.69, 18.29], [36.4, 18.29], [36.4, 15.58], [33.69, 15.58]]\n",
      "[[36.4, 11.16], [40.65, 11.16], [40.65, 15.65], [40.65, 18.39], [36.4, 18.29], [36.4, 15.58], [36.4, 14.16], [36.4, 11.16]]\n",
      "[[40.65, 15.65], [44.04, 15.65], [44.04, 11.16], [40.65, 11.16], [40.65, 15.65]]\n",
      "[[44.04, 15.65], [44.04, 18.32], [49.3, 18.32], [49.3, 16.52], [49.3, 14.16], [49.27, 11.2], [44.04, 11.16], [44.04, 15.65]]\n",
      "[[40.65, 18.39], [40.65, 20.94], [44.07, 20.94], [44.04, 18.32], [44.04, 15.65], [40.65, 15.65], [40.65, 18.39]]\n",
      "[[49.27, 11.2], [52.56, 11.2], [52.56, 14.13], [49.3, 14.16], [49.27, 11.2]]\n",
      "[[52.56, 14.13], [52.56, 15.36], [52.56, 16.52], [49.3, 16.52], [49.3, 14.16], [52.56, 14.13]]\n",
      "[[52.56, 16.52], [52.56, 18.29], [49.3, 18.32], [49.3, 16.52], [52.56, 16.52]]\n",
      "[[52.56, 11.2], [56.36, 11.2], [56.36, 15.45], [52.56, 15.36], [52.56, 14.13], [52.56, 11.2]]\n",
      "[[56.36, 15.45], [56.36, 18.26], [52.56, 18.29], [52.56, 16.52], [52.56, 15.36], [56.36, 15.45]]\n"
     ]
    }
   ],
   "source": [
    "perimeters = []\n",
    "for n in rfgraph.nodes(data=True):\n",
    "    coords = n[1]['coordinates']\n",
    "    perimeter = []\n",
    "    for point in coords:\n",
    "        perimeter.append([point['x'], point['y']])\n",
    "    perimeters.append(perimeter)\n",
    "    print(perimeter)"
   ]
  },
  {
   "cell_type": "code",
   "execution_count": 97,
   "metadata": {},
   "outputs": [
    {
     "data": {
      "text/plain": [
       "[[0, 1],\n",
       " [0, 3],\n",
       " [1, 0],\n",
       " [1, 2],\n",
       " [1, 3],\n",
       " [2, 1],\n",
       " [2, 3],\n",
       " [3, 0],\n",
       " [3, 1],\n",
       " [3, 2],\n",
       " [3, 4],\n",
       " [3, 6],\n",
       " [4, 3],\n",
       " [4, 5],\n",
       " [4, 6],\n",
       " [5, 4],\n",
       " [5, 6],\n",
       " [5, 7],\n",
       " [5, 8],\n",
       " [5, 9],\n",
       " [6, 3],\n",
       " [6, 4],\n",
       " [6, 5],\n",
       " [7, 5],\n",
       " [7, 8],\n",
       " [7, 10],\n",
       " [8, 5],\n",
       " [8, 7],\n",
       " [8, 9],\n",
       " [8, 10],\n",
       " [8, 11],\n",
       " [9, 5],\n",
       " [9, 8],\n",
       " [9, 11],\n",
       " [10, 7],\n",
       " [10, 8],\n",
       " [10, 11],\n",
       " [11, 8],\n",
       " [11, 9],\n",
       " [11, 10]]"
      ]
     },
     "execution_count": 97,
     "metadata": {},
     "output_type": "execute_result"
    }
   ],
   "source": [
    "edges = []\n",
    "for per1 in perimeters:\n",
    "    px = perimeters.index(per1)\n",
    "    for per2 in perimeters:\n",
    "        lx = perimeters.index(per2) \n",
    "        if per1 != per2:\n",
    "            common_points = set()\n",
    "            # print(f'common_points {common_points}, type: {type(common_points)}')\n",
    "            for p in range(len(per1)):\n",
    "                # for l in range(len(per2)):                        \n",
    "                if per1[p] in per2:\n",
    "                    common_points.add(p)\n",
    "            if len(common_points)>1:\n",
    "                edges.append([px,lx])\n",
    "edges\n"
   ]
  },
  {
   "cell_type": "code",
   "execution_count": 98,
   "metadata": {},
   "outputs": [],
   "source": [
    "rfgraph.add_edges_from(edges)"
   ]
  },
  {
   "cell_type": "code",
   "execution_count": 104,
   "metadata": {},
   "outputs": [
    {
     "data": {
      "image/png": "[encoded data removed]",
      "text/plain": [
       "<Figure size 640x480 with 1 Axes>"
      ]
     },
     "metadata": {},
     "output_type": "display_data"
    }
   ],
   "source": [
    "labels = nx.get_node_attributes(rfgraph, 'room_type') \n",
    "nx.draw(rfgraph,labels=labels,node_size=1000)\n",
    "#nx.draw(rfgraph, with_labels=True, font_weight='bold')"
   ]
  },
  {
   "cell_type": "code",
   "execution_count": 102,
   "metadata": {},
   "outputs": [
    {
     "data": {
      "text/plain": [
       "{'room_type': 'bathroom',\n",
       " 'apartment': 'Apartment 1',\n",
       " 'coordinates': [{'x': 33.69, 'y': 11.16, 'z': 0},\n",
       "  {'x': 33.69, 'y': 14.16, 'z': 0},\n",
       "  {'x': 36.4, 'y': 14.16, 'z': 0},\n",
       "  {'x': 36.4, 'y': 11.16, 'z': 0},\n",
       "  {'x': 33.69, 'y': 11.16, 'z': 0}]}"
      ]
     },
     "execution_count": 102,
     "metadata": {},
     "output_type": "execute_result"
    }
   ],
   "source": [
    "rfgraph.nodes[0]"
   ]
  },
  {
   "cell_type": "code",
   "execution_count": 95,
   "metadata": {},
   "outputs": [
    {
     "data": {
      "text/plain": [
       "{14.16}"
      ]
     },
     "execution_count": 95,
     "metadata": {},
     "output_type": "execute_result"
    }
   ],
   "source": [
    "common_points"
   ]
  },
  {
   "cell_type": "code",
   "execution_count": null,
   "metadata": {},
   "outputs": [],
   "source": []
  },
  {
   "cell_type": "code",
   "execution_count": null,
   "metadata": {},
   "outputs": [],
   "source": []
  },
  {
   "cell_type": "code",
   "execution_count": null,
   "metadata": {},
   "outputs": [
    {
     "data": {
      "text/plain": [
       "<generator object node_attribute_xy at 0x000002769E4029D0>"
      ]
     },
     "execution_count": 57,
     "metadata": {},
     "output_type": "execute_result"
    }
   ],
   "source": [
    "rfgraph.add_node(id, room_type=name, apartment=apartment, coordinates=coordinates)"
   ]
  },
  {
   "cell_type": "code",
   "execution_count": 46,
   "metadata": {},
   "outputs": [
    {
     "data": {
      "text/plain": [
       "{'room_type': 'bathroom',\n",
       " 'apartment': 'Apartment 1',\n",
       " 'coordinates': [{'x': 33.69, 'y': 11.16, 'z': 0},\n",
       "  {'x': 33.69, 'y': 14.16, 'z': 0},\n",
       "  {'x': 36.4, 'y': 14.16, 'z': 0},\n",
       "  {'x': 36.4, 'y': 11.16, 'z': 0},\n",
       "  {'x': 33.69, 'y': 11.16, 'z': 0}]}"
      ]
     },
     "execution_count": 46,
     "metadata": {},
     "output_type": "execute_result"
    }
   ],
   "source": [
    "s"
   ]
  },
  {
   "cell_type": "code",
   "execution_count": null,
   "metadata": {},
   "outputs": [],
   "source": []
  },
  {
   "cell_type": "code",
   "execution_count": null,
   "metadata": {},
   "outputs": [],
   "source": []
  },
  {
   "cell_type": "code",
   "execution_count": null,
   "metadata": {},
   "outputs": [],
   "source": []
  },
  {
   "cell_type": "code",
   "execution_count": 11,
   "metadata": {},
   "outputs": [],
   "source": [
    "rf1_original = nx.read_graphml(path + 'ReferenceDesign_01/updated_walls_and_rooms_graph(internal).graphml') \n",
    "rf1 = nx.read_graphml(path + 'ReferenceDesign_01/updated_walls_and_rooms_graph(internal)_snapped.graphml')"
   ]
  },
  {
   "cell_type": "code",
   "execution_count": null,
   "metadata": {},
   "outputs": [],
   "source": []
  },
  {
   "cell_type": "code",
   "execution_count": 10,
   "metadata": {},
   "outputs": [
    {
     "name": "stdout",
     "output_type": "stream",
     "text": [
      "room1 {'type': 'room', 'name': 'bathroom', 'apartment': 'Apartment 1'}\n",
      "apartment1 Apartment 1\n",
      "room2 corridor\n",
      "room3 living_room\n",
      "room4 bedroom\n",
      "room5 living_room\n",
      "apartment2 Apartment 2\n",
      "room6 core\n",
      "room7 {'type': 'room', 'name': 'bathroom', 'apartment': 'Apartment 2'}\n",
      "room8 corridor\n",
      "room9 bedroom\n"
     ]
    }
   ],
   "source": [
    "for n in rf1.nodes:\n",
    "    node = rf1.nodes[n]\n",
    "    try:\n",
    "        name = node['name']\n",
    "        if name == 'bathroom':\n",
    "            print(n, node)\n",
    "        else:\n",
    "            print (n, name)\n",
    "    except KeyError:\n",
    "        pass"
   ]
  },
  {
   "cell_type": "code",
   "execution_count": 12,
   "metadata": {},
   "outputs": [
    {
     "name": "stdout",
     "output_type": "stream",
     "text": [
      "room1 {'type': 'room', 'name': 'bathroom', 'apartment': 'Apartment 1'}\n",
      "apartment1 Apartment 1\n",
      "room2 corridor\n",
      "room3 living_room\n",
      "room4 bedroom\n",
      "room5 living_room\n",
      "apartment2 Apartment 2\n",
      "room6 core\n",
      "room7 {'type': 'room', 'name': 'bathroom', 'apartment': 'Apartment 2'}\n",
      "room8 corridor\n",
      "room9 bedroom\n"
     ]
    }
   ],
   "source": [
    "for n in rf1_original.nodes:\n",
    "    node = rf1_original.nodes[n]\n",
    "    try:\n",
    "        name = node['name']\n",
    "        if name == 'bathroom':\n",
    "            print(n, node)\n",
    "        else:\n",
    "            print (n, name)\n",
    "    except KeyError:\n",
    "        pass"
   ]
  },
  {
   "cell_type": "code",
   "execution_count": null,
   "metadata": {},
   "outputs": [],
   "source": []
  },
  {
   "cell_type": "code",
   "execution_count": null,
   "metadata": {},
   "outputs": [],
   "source": []
  }
 ],
 "metadata": {
  "kernelspec": {
   "display_name": "Python 3",
   "language": "python",
   "name": "python3"
  },
  "language_info": {
   "codemirror_mode": {
    "name": "ipython",
    "version": 3
   },
   "file_extension": ".py",
   "mimetype": "text/x-python",
   "name": "python",
   "nbconvert_exporter": "python",
   "pygments_lexer": "ipython3",
   "version": "3.12.8"
  }
 },
 "nbformat": 4,
 "nbformat_minor": 2
}
